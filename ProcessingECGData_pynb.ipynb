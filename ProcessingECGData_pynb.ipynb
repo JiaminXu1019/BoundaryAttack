{
  "nbformat": 4,
  "nbformat_minor": 0,
  "metadata": {
    "colab": {
      "name": "ProcessingECGData.pynb",
      "provenance": [],
      "collapsed_sections": [],
      "toc_visible": true,
      "include_colab_link": true
    },
    "kernelspec": {
      "name": "python3",
      "display_name": "Python 3"
    }
  },
  "cells": [
    {
      "cell_type": "markdown",
      "metadata": {
        "id": "view-in-github",
        "colab_type": "text"
      },
      "source": [
        "<a href=\"https://colab.research.google.com/github/JiaminXu1019/BoundaryAttack/blob/master/ProcessingECGData_pynb.ipynb\" target=\"_parent\"><img src=\"https://colab.research.google.com/assets/colab-badge.svg\" alt=\"Open In Colab\"/></a>"
      ]
    },
    {
      "cell_type": "markdown",
      "metadata": {
        "id": "M8Lx0rXpxJZ9",
        "colab_type": "text"
      },
      "source": [
        "Processing ECG Data for Attack Algorithm"
      ]
    },
    {
      "cell_type": "code",
      "metadata": {
        "id": "7M0DHJvZxF-h",
        "colab_type": "code",
        "colab": {}
      },
      "source": [
        "from tensorflow.keras.models import load_model"
      ],
      "execution_count": null,
      "outputs": []
    },
    {
      "cell_type": "code",
      "metadata": {
        "id": "b8gv6g5qxIuT",
        "colab_type": "code",
        "colab": {}
      },
      "source": [
        "model = load_model(\"/content/drive/My Drive/ecg.hdf5\")\n",
        "print(model.summary())"
      ],
      "execution_count": null,
      "outputs": []
    },
    {
      "cell_type": "code",
      "metadata": {
        "id": "HCt2jpFy5AoM",
        "colab_type": "code",
        "colab": {
          "base_uri": "https://localhost:8080/",
          "height": 350
        },
        "outputId": "4e993199-ba2d-4282-92df-1dd85ce9ecda"
      },
      "source": [
        "# input raw data, not feature extracted version\n",
        "import numpy as np\n",
        "\n",
        "x_train=np.load(\"/content/drive/My Drive/ECG/Data/X_train.npy\")\n",
        "x_test=np.load(\"/content/drive/My Drive/ECG/Data/X_test.npy\")\n",
        "y_train=np.load(\"/content/drive/My Drive/ECG/Data/y_train.npy\")\n",
        "y_test=np.load(\"/content/drive/My Drive/ECG/Data/y_test.npy\")"
      ],
      "execution_count": null,
      "outputs": [
        {
          "output_type": "error",
          "ename": "FileNotFoundError",
          "evalue": "ignored",
          "traceback": [
            "\u001b[0;31m---------------------------------------------------------------------------\u001b[0m",
            "\u001b[0;31mFileNotFoundError\u001b[0m                         Traceback (most recent call last)",
            "\u001b[0;32m<ipython-input-2-a24b7e745236>\u001b[0m in \u001b[0;36m<module>\u001b[0;34m()\u001b[0m\n\u001b[1;32m      2\u001b[0m \u001b[0;32mimport\u001b[0m \u001b[0mnumpy\u001b[0m \u001b[0;32mas\u001b[0m \u001b[0mnp\u001b[0m\u001b[0;34m\u001b[0m\u001b[0;34m\u001b[0m\u001b[0m\n\u001b[1;32m      3\u001b[0m \u001b[0;34m\u001b[0m\u001b[0m\n\u001b[0;32m----> 4\u001b[0;31m \u001b[0mx_train\u001b[0m\u001b[0;34m=\u001b[0m\u001b[0mnp\u001b[0m\u001b[0;34m.\u001b[0m\u001b[0mload\u001b[0m\u001b[0;34m(\u001b[0m\u001b[0;34m\"/content/drive/My Drive/ECG/Data/X_train.npy\"\u001b[0m\u001b[0;34m)\u001b[0m\u001b[0;34m\u001b[0m\u001b[0;34m\u001b[0m\u001b[0m\n\u001b[0m\u001b[1;32m      5\u001b[0m \u001b[0mx_test\u001b[0m\u001b[0;34m=\u001b[0m\u001b[0mnp\u001b[0m\u001b[0;34m.\u001b[0m\u001b[0mload\u001b[0m\u001b[0;34m(\u001b[0m\u001b[0;34m\"/content/drive/My Drive/ECG/Data/X_test.npy\"\u001b[0m\u001b[0;34m)\u001b[0m\u001b[0;34m\u001b[0m\u001b[0;34m\u001b[0m\u001b[0m\n\u001b[1;32m      6\u001b[0m \u001b[0my_train\u001b[0m\u001b[0;34m=\u001b[0m\u001b[0mnp\u001b[0m\u001b[0;34m.\u001b[0m\u001b[0mload\u001b[0m\u001b[0;34m(\u001b[0m\u001b[0;34m\"/content/drive/My Drive/ECG/Data/y_train.npy\"\u001b[0m\u001b[0;34m)\u001b[0m\u001b[0;34m\u001b[0m\u001b[0;34m\u001b[0m\u001b[0m\n",
            "\u001b[0;32m/usr/local/lib/python3.6/dist-packages/numpy/lib/npyio.py\u001b[0m in \u001b[0;36mload\u001b[0;34m(file, mmap_mode, allow_pickle, fix_imports, encoding)\u001b[0m\n\u001b[1;32m    426\u001b[0m         \u001b[0mown_fid\u001b[0m \u001b[0;34m=\u001b[0m \u001b[0;32mFalse\u001b[0m\u001b[0;34m\u001b[0m\u001b[0;34m\u001b[0m\u001b[0m\n\u001b[1;32m    427\u001b[0m     \u001b[0;32melse\u001b[0m\u001b[0;34m:\u001b[0m\u001b[0;34m\u001b[0m\u001b[0;34m\u001b[0m\u001b[0m\n\u001b[0;32m--> 428\u001b[0;31m         \u001b[0mfid\u001b[0m \u001b[0;34m=\u001b[0m \u001b[0mopen\u001b[0m\u001b[0;34m(\u001b[0m\u001b[0mos_fspath\u001b[0m\u001b[0;34m(\u001b[0m\u001b[0mfile\u001b[0m\u001b[0;34m)\u001b[0m\u001b[0;34m,\u001b[0m \u001b[0;34m\"rb\"\u001b[0m\u001b[0;34m)\u001b[0m\u001b[0;34m\u001b[0m\u001b[0;34m\u001b[0m\u001b[0m\n\u001b[0m\u001b[1;32m    429\u001b[0m         \u001b[0mown_fid\u001b[0m \u001b[0;34m=\u001b[0m \u001b[0;32mTrue\u001b[0m\u001b[0;34m\u001b[0m\u001b[0;34m\u001b[0m\u001b[0m\n\u001b[1;32m    430\u001b[0m \u001b[0;34m\u001b[0m\u001b[0m\n",
            "\u001b[0;31mFileNotFoundError\u001b[0m: [Errno 2] No such file or directory: '/content/drive/My Drive/ECG/Data/X_train.npy'"
          ]
        }
      ]
    },
    {
      "cell_type": "code",
      "metadata": {
        "id": "jn_YNeLy7Hqs",
        "colab_type": "code",
        "colab": {
          "base_uri": "https://localhost:8080/",
          "height": 85
        },
        "outputId": "5d71bfdd-ef15-4738-e255-2c6b43b79f91"
      },
      "source": [
        "print(x_train.shape)\n",
        "print(x_test.shape)\n",
        "print(y_train.shape)\n",
        "print(y_test.shape)"
      ],
      "execution_count": null,
      "outputs": [
        {
          "output_type": "stream",
          "text": [
            "(87554, 186, 1)\n",
            "(21892, 186, 1)\n",
            "(87554,)\n",
            "(21892,)\n"
          ],
          "name": "stdout"
        }
      ]
    },
    {
      "cell_type": "code",
      "metadata": {
        "id": "2M0eXBfOa_Qx",
        "colab_type": "code",
        "colab": {
          "base_uri": "https://localhost:8080/",
          "height": 34
        },
        "outputId": "92f31dbc-5d93-4ff4-cd9f-f9b9b8533ae3"
      },
      "source": [
        "print(x_train.shape, y_train.shape)"
      ],
      "execution_count": null,
      "outputs": [
        {
          "output_type": "stream",
          "text": [
            "(87554, 186, 1) (87554,)\n"
          ],
          "name": "stdout"
        }
      ]
    },
    {
      "cell_type": "code",
      "metadata": {
        "id": "E56LYxT261Qi",
        "colab_type": "code",
        "colab": {}
      },
      "source": [
        "agg_x = np.vstack((x_train,x_test))\n",
        "agg_y = np.append(y_train,y_test)\n",
        "\n",
        "arr0_d = agg_x[agg_y == 0]\n",
        "arr1_d = agg_x[agg_y == 1]\n",
        "arr2_d = agg_x[agg_y == 2]\n",
        "arr3_d = agg_x[agg_y == 3]\n",
        "arr4_d = agg_x[agg_y == 4]\n"
      ],
      "execution_count": null,
      "outputs": []
    },
    {
      "cell_type": "code",
      "metadata": {
        "id": "Z2XNi5b1DTP-",
        "colab_type": "code",
        "colab": {
          "base_uri": "https://localhost:8080/",
          "height": 51
        },
        "outputId": "3afe51a7-207f-4866-a18d-12238fc004ba"
      },
      "source": [
        "print(oneD[3].shape)\n",
        "true_y = np.argmax(model.predict(np.expand_dims(oneD[29], axis = 0)))\n",
        "print(true_y)"
      ],
      "execution_count": null,
      "outputs": [
        {
          "output_type": "stream",
          "text": [
            "(186, 1)\n",
            "1\n"
          ],
          "name": "stdout"
        }
      ]
    },
    {
      "cell_type": "code",
      "metadata": {
        "id": "wnRrY341jzLs",
        "colab_type": "code",
        "colab": {
          "base_uri": "https://localhost:8080/",
          "height": 102
        },
        "outputId": "5cfb2881-ccc6-4671-a9a3-309ecde39627"
      },
      "source": [
        "print(arr0_d.shape)\n",
        "print(arr1_d.shape)\n",
        "print(arr2_d.shape)\n",
        "print(arr3_d.shape)\n",
        "print(arr4_d.shape)"
      ],
      "execution_count": null,
      "outputs": [
        {
          "output_type": "stream",
          "text": [
            "(90589, 186, 1)\n",
            "(2779, 186, 1)\n",
            "(7236, 186, 1)\n",
            "(803, 186, 1)\n",
            "(8039, 186, 1)\n"
          ],
          "name": "stdout"
        }
      ]
    },
    {
      "cell_type": "code",
      "metadata": {
        "id": "MfK8O1j70D7c",
        "colab_type": "code",
        "colab": {
          "base_uri": "https://localhost:8080/",
          "height": 51
        },
        "outputId": "fd72eaff-fe7b-437c-b563-726cfaf119d2"
      },
      "source": [
        "\n",
        "from numpy import asarray\n",
        "from numpy import save\n",
        "%cd\n",
        "%cd /content/drive/My Drive/ECG_Proc_D/ecg_data_adv\n",
        "save('savedata0.npy',arr0_d)\n",
        "save('savedata1.npy',arr1_d)\n",
        "save('savedata2.npy', arr2_d)\n",
        "save('savedata3.npy', arr3_d)\n",
        "save('savedata4.npy', arr4_d)"
      ],
      "execution_count": null,
      "outputs": [
        {
          "output_type": "stream",
          "text": [
            "/root\n",
            "/content/drive/My Drive/ECG_Proc_D/ecg_data_adv\n"
          ],
          "name": "stdout"
        }
      ]
    },
    {
      "cell_type": "code",
      "metadata": {
        "colab_type": "code",
        "id": "YAUcsD2in1Y_",
        "colab": {}
      },
      "source": [
        "# input raw data, not feature extracted version\n",
        "import numpy as np\n",
        "from numpy import save\n",
        "\n",
        "\n",
        "zeroD=np.load(\"/content/drive/My Drive/ECG_Proc_D/ecg_data_adv/savedata0.npy\")\n",
        "oneD=np.load(\"/content/drive/My Drive/ECG_Proc_D/ecg_data_adv/savedata1.npy\")\n",
        "twoD=np.load(\"/content/drive/My Drive/ECG_Proc_D/ecg_data_adv/savedata2.npy\")\n",
        "threeD=np.load(\"/content/drive/My Drive/ECG_Proc_D/ecg_data_adv/savedata3.npy\")\n",
        "fourD=np.load(\"/content/drive/My Drive/ECG_Proc_D/ecg_data_adv/savedata4.npy\")"
      ],
      "execution_count": null,
      "outputs": []
    },
    {
      "cell_type": "code",
      "metadata": {
        "id": "BLEEGlAW6QIT",
        "colab_type": "code",
        "colab": {
          "base_uri": "https://localhost:8080/",
          "height": 102
        },
        "outputId": "752335c4-ba5c-437d-ac1b-d421709c30b4"
      },
      "source": [
        "print(zeroD.shape)\n",
        "print(oneD.shape)\n",
        "print(twoD.shape)\n",
        "print(threeD.shape)\n",
        "print(fourD.shape)"
      ],
      "execution_count": null,
      "outputs": [
        {
          "output_type": "stream",
          "text": [
            "(90589, 186, 1)\n",
            "(2779, 186, 1)\n",
            "(7236, 186, 1)\n",
            "(803, 186, 1)\n",
            "(8039, 186, 1)\n"
          ],
          "name": "stdout"
        }
      ]
    },
    {
      "cell_type": "code",
      "metadata": {
        "id": "cTe6Sdh4NMXT",
        "colab_type": "code",
        "colab": {
          "base_uri": "https://localhost:8080/",
          "height": 34
        },
        "outputId": "01ba478b-0511-4951-8db3-2d51b1683aa2"
      },
      "source": [
        "a = np.zeros((arr0_d.shape[0],1,arr0_d.shape[2]))\n",
        "b = np.zeros((arr1_d.shape[0],1,arr1_d.shape[2])) + 1\n",
        "c = np.zeros((arr2_d.shape[0],1,arr2_d.shape[2])) + 2\n",
        "d = np.zeros((arr3_d.shape[0],1,arr3_d.shape[2])) + 3\n",
        "e = np.zeros((arr4_d.shape[0],1,arr4_d.shape[2])) + 4\n",
        "\n",
        "zeroDL = np.append(arr0_d, a , axis=1)\n",
        "oneDL = np.append(arr1_d, b , axis=1)\n",
        "twoDL = np.append(arr2_d, c , axis=1)\n",
        "threeDL = np.append(arr3_d, d , axis=1)\n",
        "fourDL = np.append(arr4_d, e , axis=1)"
      ],
      "execution_count": null,
      "outputs": [
        {
          "output_type": "stream",
          "text": [
            "(90589, 186, 1)\n"
          ],
          "name": "stdout"
        }
      ]
    },
    {
      "cell_type": "code",
      "metadata": {
        "id": "2gKwrrU55ntK",
        "colab_type": "code",
        "colab": {
          "base_uri": "https://localhost:8080/",
          "height": 102
        },
        "outputId": "7ad47152-fd2d-41a5-a321-ce72e23e1f2e"
      },
      "source": [
        "print(zeroDL.shape)\n",
        "print(oneDL.shape)\n",
        "print(twoDL.shape)\n",
        "print(threeDL.shape)\n",
        "print(fourDL.shape)"
      ],
      "execution_count": null,
      "outputs": [
        {
          "output_type": "stream",
          "text": [
            "(90589, 187, 1)\n",
            "(2779, 187, 1)\n",
            "(7236, 187, 1)\n",
            "(803, 187, 1)\n",
            "(8039, 187, 1)\n"
          ],
          "name": "stdout"
        }
      ]
    },
    {
      "cell_type": "code",
      "metadata": {
        "id": "P84hBNMiAsk3",
        "colab_type": "code",
        "colab": {
          "base_uri": "https://localhost:8080/",
          "height": 51
        },
        "outputId": "4cd53f34-a02c-469a-e7d5-a53a2eb18eab"
      },
      "source": [
        "%cd\n",
        "%cd /content/drive/My Drive/ECG_Proc_D/ecg_data_adv\n",
        "save('savedata_L0.npy',zeroDL)\n",
        "save('savedata_L1.npy',oneDL)\n",
        "save('savedata_L2.npy', twoDL)\n",
        "save('savedata_L3.npy', threeDL)\n",
        "save('savedata_L4.npy', fourDL)"
      ],
      "execution_count": null,
      "outputs": [
        {
          "output_type": "stream",
          "text": [
            "/root\n",
            "/content/drive/My Drive/ECG_Proc_D/ecg_data_adv\n"
          ],
          "name": "stdout"
        }
      ]
    },
    {
      "cell_type": "code",
      "metadata": {
        "id": "SImuaOInnDr1",
        "colab_type": "code",
        "colab": {
          "base_uri": "https://localhost:8080/",
          "height": 102
        },
        "outputId": "20e259d0-eaa9-47fb-9864-3639d3beed91"
      },
      "source": [
        "zeroDL = np.load(\"/content/drive/My Drive/ECG_Proc_D/ecg_data_adv/savedata_L0.npy\")\n",
        "oneDL = np.load(\"/content/drive/My Drive/ECG_Proc_D/ecg_data_adv/savedata_L1.npy\")\n",
        "twoDL = np.load(\"/content/drive/My Drive/ECG_Proc_D/ecg_data_adv/savedata_L2.npy\")\n",
        "threeDL = np.load(\"/content/drive/My Drive/ECG_Proc_D/ecg_data_adv/savedata_L3.npy\")\n",
        "fourDL = np.load(\"/content/drive/My Drive/ECG_Proc_D/ecg_data_adv/savedata_L4.npy\")\n",
        "\n",
        "print(zeroDL.shape)\n",
        "print(oneDL.shape)\n",
        "print(twoDL.shape)\n",
        "print(threeDL.shape)\n",
        "print(fourDL.shape)"
      ],
      "execution_count": null,
      "outputs": [
        {
          "output_type": "stream",
          "text": [
            "(90589, 187, 1)\n",
            "(2779, 187, 1)\n",
            "(7236, 187, 1)\n",
            "(803, 187, 1)\n",
            "(8039, 187, 1)\n"
          ],
          "name": "stdout"
        }
      ]
    },
    {
      "cell_type": "code",
      "metadata": {
        "id": "7Uq5760P2dQF",
        "colab_type": "code",
        "colab": {}
      },
      "source": [
        "dict = {\n",
        "    0 : zeroDL,\n",
        "    1 : oneDL,\n",
        "    2 : twoDL,\n",
        "    3 : threeDL,\n",
        "    4 : fourDL\n",
        "}\n"
      ],
      "execution_count": null,
      "outputs": []
    },
    {
      "cell_type": "code",
      "metadata": {
        "id": "a0WJ1C_jr3TD",
        "colab_type": "code",
        "colab": {}
      },
      "source": [
        "for z in range(40):\n",
        "\n",
        "  %cd\n",
        "  %cd /content/drive/My Drive/ECG_Proc_D/ecg_data_adv/PairedData\n",
        " \n",
        "  x = np.random.randint(5)\n",
        "  y = np.random.randint(5)\n",
        "\n",
        "  while x == y:\n",
        "    y = np.random.randint(5)\n",
        "\n",
        "  beat = [90589,2279,7236,803,8039]\n",
        "\n",
        "  o = np.random.randint(beat[x])\n",
        "  t = np.random.randint(beat[y])\n",
        "  data = np.array([x,o,y,t])\n",
        "  \n",
        "  orig_data = dict[x][o]\n",
        "  target_data = dict[y][t]\n",
        "  \n",
        "  p = \"ECG\" + \"{}\".format(z)\n",
        "  !mkdir $p\n",
        "  %cd $p\n",
        "\n",
        "  save(\"ECG_orig\"+\"{}\".format(x), orig_data)\n",
        "  save(\"ECG_target\"+\"{}\".format(y), target_data)\n",
        "\n",
        "  \n",
        "  if  z== 0:\n",
        "    pairings = np.array([data])\n",
        "\n",
        "  else:\n",
        "    pairings = np.vstack((pairings,data))\n",
        "\n",
        "print(pairings)"
      ],
      "execution_count": null,
      "outputs": []
    },
    {
      "cell_type": "code",
      "metadata": {
        "id": "mKhsWaDcvFXU",
        "colab_type": "code",
        "colab": {
          "base_uri": "https://localhost:8080/",
          "height": 51
        },
        "outputId": "42eac512-19e1-4fc0-878c-6997416174a3"
      },
      "source": [
        "%cd\n",
        "%cd /content/drive/My Drive/ECG_Proc_D/ecg_data_adv\n",
        "save(\"Key.npy\",pairings)"
      ],
      "execution_count": null,
      "outputs": [
        {
          "output_type": "stream",
          "text": [
            "/root\n",
            "/content/drive/My Drive/ECG_Proc_D/ecg_data_adv\n"
          ],
          "name": "stdout"
        }
      ]
    },
    {
      "cell_type": "code",
      "metadata": {
        "id": "9T6sJw4lfs3c",
        "colab_type": "code",
        "colab": {
          "base_uri": "https://localhost:8080/",
          "height": 350
        },
        "outputId": "5e1c9111-bc7c-422d-82a3-79dd48af6cdb"
      },
      "source": [
        "import numpy as np\n",
        "%matplotlib inline\n",
        "import matplotlib.pyplot as plt\n",
        "#cash money\n",
        "ecg = np.load(\"/content/drive/My Drive/ECG_Proc_D/ecg_data_adv/PairedData/ECG10/ECG_orig1.npy\")\n",
        "print(ecg.shape)\n",
        "ecg = np.expand_dims(ecg, axis = 0)\n",
        "print(ecg.shape)\n",
        "lab = ecg[0,-1,0]\n",
        "print(lab)\n",
        "ecg = ecg[:,:-1,:]\n",
        "print(ecg.shape)\n",
        "\n",
        "c = model.predict(ecg).argmax()\n",
        "print(c)\n",
        "\n",
        "ecg = ecg.ravel()\n",
        "plt.title(\"ECG Data\")\n",
        "plt.xlabel(\"Time Units\")\n",
        "plt.ylabel(\"Normalized Voltage\")\n",
        "plt.plot(ecg)\n",
        "plt.show()"
      ],
      "execution_count": null,
      "outputs": [
        {
          "output_type": "error",
          "ename": "FileNotFoundError",
          "evalue": "ignored",
          "traceback": [
            "\u001b[0;31m---------------------------------------------------------------------------\u001b[0m",
            "\u001b[0;31mFileNotFoundError\u001b[0m                         Traceback (most recent call last)",
            "\u001b[0;32m<ipython-input-1-6b42516afca2>\u001b[0m in \u001b[0;36m<module>\u001b[0;34m()\u001b[0m\n\u001b[1;32m      3\u001b[0m \u001b[0;32mimport\u001b[0m \u001b[0mmatplotlib\u001b[0m\u001b[0;34m.\u001b[0m\u001b[0mpyplot\u001b[0m \u001b[0;32mas\u001b[0m \u001b[0mplt\u001b[0m\u001b[0;34m\u001b[0m\u001b[0;34m\u001b[0m\u001b[0m\n\u001b[1;32m      4\u001b[0m \u001b[0;31m#cash money\u001b[0m\u001b[0;34m\u001b[0m\u001b[0;34m\u001b[0m\u001b[0;34m\u001b[0m\u001b[0m\n\u001b[0;32m----> 5\u001b[0;31m \u001b[0mecg\u001b[0m \u001b[0;34m=\u001b[0m \u001b[0mnp\u001b[0m\u001b[0;34m.\u001b[0m\u001b[0mload\u001b[0m\u001b[0;34m(\u001b[0m\u001b[0;34m\"/content/drive/My Drive/ECG_Proc_D/ecg_data_adv/PairedData/ECG10/ECG_orig1.npy\"\u001b[0m\u001b[0;34m)\u001b[0m\u001b[0;34m\u001b[0m\u001b[0;34m\u001b[0m\u001b[0m\n\u001b[0m\u001b[1;32m      6\u001b[0m \u001b[0mprint\u001b[0m\u001b[0;34m(\u001b[0m\u001b[0mecg\u001b[0m\u001b[0;34m.\u001b[0m\u001b[0mshape\u001b[0m\u001b[0;34m)\u001b[0m\u001b[0;34m\u001b[0m\u001b[0;34m\u001b[0m\u001b[0m\n\u001b[1;32m      7\u001b[0m \u001b[0mecg\u001b[0m \u001b[0;34m=\u001b[0m \u001b[0mnp\u001b[0m\u001b[0;34m.\u001b[0m\u001b[0mexpand_dims\u001b[0m\u001b[0;34m(\u001b[0m\u001b[0mecg\u001b[0m\u001b[0;34m,\u001b[0m \u001b[0maxis\u001b[0m \u001b[0;34m=\u001b[0m \u001b[0;36m0\u001b[0m\u001b[0;34m)\u001b[0m\u001b[0;34m\u001b[0m\u001b[0;34m\u001b[0m\u001b[0m\n",
            "\u001b[0;32m/usr/local/lib/python3.6/dist-packages/numpy/lib/npyio.py\u001b[0m in \u001b[0;36mload\u001b[0;34m(file, mmap_mode, allow_pickle, fix_imports, encoding)\u001b[0m\n\u001b[1;32m    426\u001b[0m         \u001b[0mown_fid\u001b[0m \u001b[0;34m=\u001b[0m \u001b[0;32mFalse\u001b[0m\u001b[0;34m\u001b[0m\u001b[0;34m\u001b[0m\u001b[0m\n\u001b[1;32m    427\u001b[0m     \u001b[0;32melse\u001b[0m\u001b[0;34m:\u001b[0m\u001b[0;34m\u001b[0m\u001b[0;34m\u001b[0m\u001b[0m\n\u001b[0;32m--> 428\u001b[0;31m         \u001b[0mfid\u001b[0m \u001b[0;34m=\u001b[0m \u001b[0mopen\u001b[0m\u001b[0;34m(\u001b[0m\u001b[0mos_fspath\u001b[0m\u001b[0;34m(\u001b[0m\u001b[0mfile\u001b[0m\u001b[0;34m)\u001b[0m\u001b[0;34m,\u001b[0m \u001b[0;34m\"rb\"\u001b[0m\u001b[0;34m)\u001b[0m\u001b[0;34m\u001b[0m\u001b[0;34m\u001b[0m\u001b[0m\n\u001b[0m\u001b[1;32m    429\u001b[0m         \u001b[0mown_fid\u001b[0m \u001b[0;34m=\u001b[0m \u001b[0;32mTrue\u001b[0m\u001b[0;34m\u001b[0m\u001b[0;34m\u001b[0m\u001b[0m\n\u001b[1;32m    430\u001b[0m \u001b[0;34m\u001b[0m\u001b[0m\n",
            "\u001b[0;31mFileNotFoundError\u001b[0m: [Errno 2] No such file or directory: '/content/drive/My Drive/ECG_Proc_D/ecg_data_adv/PairedData/ECG10/ECG_orig1.npy'"
          ]
        }
      ]
    }
  ]
}